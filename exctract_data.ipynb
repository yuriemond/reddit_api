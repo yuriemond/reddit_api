{
 "metadata": {
  "language_info": {
   "codemirror_mode": {
    "name": "ipython",
    "version": 3
   },
   "file_extension": ".py",
   "mimetype": "text/x-python",
   "name": "python",
   "nbconvert_exporter": "python",
   "pygments_lexer": "ipython3",
   "version": "3.8.3-final"
  },
  "orig_nbformat": 2,
  "kernelspec": {
   "name": "python3",
   "display_name": "Python 3.8.3 64-bit (conda)",
   "metadata": {
    "interpreter": {
     "hash": "19b08bd414d9ce04726a1daf78c19527c3eba365544edc4dafdf03dd189be067"
    }
   }
  }
 },
 "nbformat": 4,
 "nbformat_minor": 2,
 "cells": [
  {
   "cell_type": "code",
   "execution_count": 9,
   "metadata": {},
   "outputs": [],
   "source": [
    "#Library\n",
    "import pandas as pd \n",
    "from pmaw import PushshiftAPI\n",
    "import datetime as dt\n",
    "import requests\n",
    "import json"
   ]
  },
  {
   "cell_type": "code",
   "execution_count": 10,
   "metadata": {},
   "outputs": [],
   "source": [
    "api = PushshiftAPI()"
   ]
  },
  {
   "cell_type": "code",
   "execution_count": 11,
   "metadata": {},
   "outputs": [],
   "source": [
    "#convert date to epoch time \n",
    "\n",
    "#before = int(dt.datetime(2021,3,2,0,0).timestamp()) \n",
    "start_time =  int(dt.datetime(2021,3,3,0,0).timestamp())\n"
   ]
  },
  {
   "cell_type": "code",
   "execution_count": 14,
   "metadata": {},
   "outputs": [
    {
     "output_type": "stream",
     "name": "stdout",
     "text": [
      "Total:: Success Rate: 100.00% - Requests: 2 - Batches: 1 - Items Remaining: 0\n"
     ]
    }
   ],
   "source": [
    "#convert date to epoch time \n",
    "\n",
    "#before = int(dt.datetime(2021,3,2,0,0).timestamp()) \n",
    "start_time =  int(dt.datetime(2021,3,2,0,0).timestamp())\n",
    "wsb = \"wallstreetbets\"\n",
    "limit = 10\n",
    "\n",
    "submissions = api.search_submissions(subreddit=wsb, \n",
    "                                     limit=limit,\n",
    "                                     after=start_time,\n",
    "                                     filter=['title', 'selftext', 'id' , 'subreddit', 'url', 'removed_by_category']\n",
    "                                     ) #'author'\n",
    "\n",
    "#print(f'Retrieved {len(submissions)} comments from Pushshift')\n",
    "submissions_df = pd.DataFrame(submissions)"
   ]
  },
  {
   "cell_type": "code",
   "execution_count": 16,
   "metadata": {},
   "outputs": [],
   "source": [
    "#submissions_df.head()"
   ]
  },
  {
   "cell_type": "code",
   "execution_count": 17,
   "metadata": {},
   "outputs": [],
   "source": [
    "post_id = list(submissions_df.id)\n",
    "#post_id"
   ]
  },
  {
   "cell_type": "code",
   "execution_count": 19,
   "metadata": {},
   "outputs": [
    {
     "output_type": "stream",
     "name": "stdout",
     "text": [
      "Total:: Success Rate: 100.00% - Requests: 8 - Batches: 1 - Items Remaining: 0\n"
     ]
    },
    {
     "output_type": "execute_result",
     "data": {
      "text/plain": [
       "10"
      ]
     },
     "metadata": {},
     "execution_count": 19
    }
   ],
   "source": [
    "#get all the comments ids for our submissions\n",
    "comment_ids = api.search_submission_comment_ids(ids=post_id)\n",
    "\n",
    "comment_id_list = [c_id for c_id in comment_ids]\n",
    "len(comment_id_list)"
   ]
  },
  {
   "cell_type": "code",
   "execution_count": 20,
   "metadata": {},
   "outputs": [
    {
     "output_type": "stream",
     "name": "stdout",
     "text": [
      "Total:: Success Rate: 100.00% - Requests: 1 - Batches: 1 - Items Remaining: 0\n"
     ]
    },
    {
     "output_type": "execute_result",
     "data": {
      "text/plain": [
       "                 author                                               body  \\\n",
       "0         AutoModerator  Your post has been removed because a single li...   \n",
       "1  Traditional_Base_584  Imma let my phone die, so that way i do not lo...   \n",
       "2            toxicsleft  Drawing attention to that Edit for those of yo...   \n",
       "3               kamajie  33% it dips\\n33% it goes up\\n33% it goes sidew...   \n",
       "4         Motorbreath91                                     ARISE CHICKEN!   \n",
       "5      Neat-Answer-3630            What show is that again? Robot chicken?   \n",
       "6       ijustwanttowant                             Aqua teen hunger force   \n",
       "7             ChoboJawz  Bad reception. We go over here.... Arise Chick...   \n",
       "8             Jeffery_G                             My name is Shake Zula!   \n",
       "9  QuirkyResponsibility                                    Chicken, arise!   \n",
       "\n",
       "        id    link_id       subreddit  \n",
       "0  gpgqoji  t3_lwdn0t  wallstreetbets  \n",
       "1  gpgqr4v  t3_lwdmwz  wallstreetbets  \n",
       "2  gpgqrmt  t3_lwdn0t  wallstreetbets  \n",
       "3  gpgqvdh  t3_lwdn75  wallstreetbets  \n",
       "4  gpgr022  t3_lwdn1f  wallstreetbets  \n",
       "5  gpgt7le  t3_lwdn1f  wallstreetbets  \n",
       "6  gpgup9l  t3_lwdn1f  wallstreetbets  \n",
       "7  gpgxg75  t3_lwdn1f  wallstreetbets  \n",
       "8  gpgyxpe  t3_lwdn1f  wallstreetbets  \n",
       "9  gpgzgbv  t3_lwdn1f  wallstreetbets  "
      ],
      "text/html": "<div>\n<style scoped>\n    .dataframe tbody tr th:only-of-type {\n        vertical-align: middle;\n    }\n\n    .dataframe tbody tr th {\n        vertical-align: top;\n    }\n\n    .dataframe thead th {\n        text-align: right;\n    }\n</style>\n<table border=\"1\" class=\"dataframe\">\n  <thead>\n    <tr style=\"text-align: right;\">\n      <th></th>\n      <th>author</th>\n      <th>body</th>\n      <th>id</th>\n      <th>link_id</th>\n      <th>subreddit</th>\n    </tr>\n  </thead>\n  <tbody>\n    <tr>\n      <th>0</th>\n      <td>AutoModerator</td>\n      <td>Your post has been removed because a single li...</td>\n      <td>gpgqoji</td>\n      <td>t3_lwdn0t</td>\n      <td>wallstreetbets</td>\n    </tr>\n    <tr>\n      <th>1</th>\n      <td>Traditional_Base_584</td>\n      <td>Imma let my phone die, so that way i do not lo...</td>\n      <td>gpgqr4v</td>\n      <td>t3_lwdmwz</td>\n      <td>wallstreetbets</td>\n    </tr>\n    <tr>\n      <th>2</th>\n      <td>toxicsleft</td>\n      <td>Drawing attention to that Edit for those of yo...</td>\n      <td>gpgqrmt</td>\n      <td>t3_lwdn0t</td>\n      <td>wallstreetbets</td>\n    </tr>\n    <tr>\n      <th>3</th>\n      <td>kamajie</td>\n      <td>33% it dips\\n33% it goes up\\n33% it goes sidew...</td>\n      <td>gpgqvdh</td>\n      <td>t3_lwdn75</td>\n      <td>wallstreetbets</td>\n    </tr>\n    <tr>\n      <th>4</th>\n      <td>Motorbreath91</td>\n      <td>ARISE CHICKEN!</td>\n      <td>gpgr022</td>\n      <td>t3_lwdn1f</td>\n      <td>wallstreetbets</td>\n    </tr>\n    <tr>\n      <th>5</th>\n      <td>Neat-Answer-3630</td>\n      <td>What show is that again? Robot chicken?</td>\n      <td>gpgt7le</td>\n      <td>t3_lwdn1f</td>\n      <td>wallstreetbets</td>\n    </tr>\n    <tr>\n      <th>6</th>\n      <td>ijustwanttowant</td>\n      <td>Aqua teen hunger force</td>\n      <td>gpgup9l</td>\n      <td>t3_lwdn1f</td>\n      <td>wallstreetbets</td>\n    </tr>\n    <tr>\n      <th>7</th>\n      <td>ChoboJawz</td>\n      <td>Bad reception. We go over here.... Arise Chick...</td>\n      <td>gpgxg75</td>\n      <td>t3_lwdn1f</td>\n      <td>wallstreetbets</td>\n    </tr>\n    <tr>\n      <th>8</th>\n      <td>Jeffery_G</td>\n      <td>My name is Shake Zula!</td>\n      <td>gpgyxpe</td>\n      <td>t3_lwdn1f</td>\n      <td>wallstreetbets</td>\n    </tr>\n    <tr>\n      <th>9</th>\n      <td>QuirkyResponsibility</td>\n      <td>Chicken, arise!</td>\n      <td>gpgzgbv</td>\n      <td>t3_lwdn1f</td>\n      <td>wallstreetbets</td>\n    </tr>\n  </tbody>\n</table>\n</div>"
     },
     "metadata": {},
     "execution_count": 20
    }
   ],
   "source": [
    "#Take the comments ids and find the body. \n",
    "comments = api.search_comments(ids=comment_id_list,\n",
    "                               limit=1000,\n",
    "                               filter=['author', 'body', 'subreddit', 'id', 'link_id'])\n",
    "#comment_list = [comment for comment in comments]\n",
    "df_comments = pd.DataFrame(comments)\n",
    "df_comments"
   ]
  },
  {
   "cell_type": "code",
   "execution_count": 21,
   "metadata": {},
   "outputs": [
    {
     "output_type": "execute_result",
     "data": {
      "text/plain": [
       "                                                        body\n",
       "link_id                                                     \n",
       "t3_lwdmwz  Imma let my phone die, so that way i do not lo...\n",
       "t3_lwdn0t  Your post has been removed because a single li...\n",
       "t3_lwdn1f  ARISE CHICKEN!\\nWhat show is that again? Robot...\n",
       "t3_lwdn75  33% it dips\\n33% it goes up\\n33% it goes sidew..."
      ],
      "text/html": "<div>\n<style scoped>\n    .dataframe tbody tr th:only-of-type {\n        vertical-align: middle;\n    }\n\n    .dataframe tbody tr th {\n        vertical-align: top;\n    }\n\n    .dataframe thead th {\n        text-align: right;\n    }\n</style>\n<table border=\"1\" class=\"dataframe\">\n  <thead>\n    <tr style=\"text-align: right;\">\n      <th></th>\n      <th>body</th>\n    </tr>\n    <tr>\n      <th>link_id</th>\n      <th></th>\n    </tr>\n  </thead>\n  <tbody>\n    <tr>\n      <th>t3_lwdmwz</th>\n      <td>Imma let my phone die, so that way i do not lo...</td>\n    </tr>\n    <tr>\n      <th>t3_lwdn0t</th>\n      <td>Your post has been removed because a single li...</td>\n    </tr>\n    <tr>\n      <th>t3_lwdn1f</th>\n      <td>ARISE CHICKEN!\\nWhat show is that again? Robot...</td>\n    </tr>\n    <tr>\n      <th>t3_lwdn75</th>\n      <td>33% it dips\\n33% it goes up\\n33% it goes sidew...</td>\n    </tr>\n  </tbody>\n</table>\n</div>"
     },
     "metadata": {},
     "execution_count": 21
    }
   ],
   "source": [
    "#grouping comments for each posts and concatenating them together\n",
    "#One row per post, with that row con taining all the comments on that post. \n",
    "\n",
    "grouped_comments = df_comments.groupby('link_id').agg({'body': '\\n'.join})\n",
    "grouped_comments.head()"
   ]
  },
  {
   "cell_type": "code",
   "execution_count": 23,
   "metadata": {},
   "outputs": [
    {
     "output_type": "execute_result",
     "data": {
      "text/plain": [
       "        created_utc                                           selftext  \\\n",
       "id                                                                       \n",
       "lwdn75   1614722303  Is there a high probability that $RKT will dip...   \n",
       "lwdn6i   1614722302                                                      \n",
       "lwdn1k   1614722290                                          [removed]   \n",
       "lwdn1f   1614722290                                                      \n",
       "lwdn0t   1614722289                                                      \n",
       "lwdmzx   1614722286                                          [removed]   \n",
       "lwdmzu   1614722286                                          [removed]   \n",
       "lwdmwz   1614722280                                                      \n",
       "lwdmo5   1614722262                                          [removed]   \n",
       "lwdm39   1614722221  &amp;#x200B;\\n\\n*Processing img maonr8sslok61....   \n",
       "\n",
       "             subreddit                                              title  \\\n",
       "id                                                                          \n",
       "lwdn75  wallstreetbets  QUESTION: What are the chances that $RKT will ...   \n",
       "lwdn6i  wallstreetbets  Okay, which one of you lads did I have the ple...   \n",
       "lwdn1k  wallstreetbets  $rkt gamma squeeze on Friday March 5 if price ...   \n",
       "lwdn1f  wallstreetbets                               I love you all &lt;3   \n",
       "lwdn0t  wallstreetbets    Dear RKT, reposted important clip from DD here.   \n",
       "lwdmzx  wallstreetbets                            RKT earning move to GME   \n",
       "lwdmzu  wallstreetbets                                    Tomorrow RKT 🚀🚀   \n",
       "lwdmwz  wallstreetbets                                 All in and fuck it   \n",
       "lwdmo5  wallstreetbets                                     Dear strangers   \n",
       "lwdm39  wallstreetbets  RKT $580,000 GAIN TODAY 🚀🚀🚀 [̲̅$̲̅(̲̅ ͡° ͜ʖ ͡°...   \n",
       "\n",
       "                                                      url removed_by_category  \\\n",
       "id                                                                              \n",
       "lwdn75  https://www.reddit.com/r/wallstreetbets/commen...                 NaN   \n",
       "lwdn6i                https://i.redd.it/rnwn7apwsok61.jpg           moderator   \n",
       "lwdn1k  https://www.reddit.com/r/wallstreetbets/commen...           moderator   \n",
       "lwdn1f                    https://v.redd.it/gcdxkzo1sok61                 NaN   \n",
       "lwdn0t                https://i.redd.it/yu5dhsuusok61.jpg           moderator   \n",
       "lwdmzx  https://www.reddit.com/r/wallstreetbets/commen...           moderator   \n",
       "lwdmzu  https://www.reddit.com/r/wallstreetbets/commen...           moderator   \n",
       "lwdmwz                https://i.redd.it/bncq6uiusok61.jpg                 NaN   \n",
       "lwdmo5  https://www.reddit.com/r/wallstreetbets/commen...           moderator   \n",
       "lwdm39  https://www.reddit.com/r/wallstreetbets/commen...                 NaN   \n",
       "\n",
       "       body  \n",
       "id           \n",
       "lwdn75  NaN  \n",
       "lwdn6i  NaN  \n",
       "lwdn1k  NaN  \n",
       "lwdn1f  NaN  \n",
       "lwdn0t  NaN  \n",
       "lwdmzx  NaN  \n",
       "lwdmzu  NaN  \n",
       "lwdmwz  NaN  \n",
       "lwdmo5  NaN  \n",
       "lwdm39  NaN  "
      ],
      "text/html": "<div>\n<style scoped>\n    .dataframe tbody tr th:only-of-type {\n        vertical-align: middle;\n    }\n\n    .dataframe tbody tr th {\n        vertical-align: top;\n    }\n\n    .dataframe thead th {\n        text-align: right;\n    }\n</style>\n<table border=\"1\" class=\"dataframe\">\n  <thead>\n    <tr style=\"text-align: right;\">\n      <th></th>\n      <th>created_utc</th>\n      <th>selftext</th>\n      <th>subreddit</th>\n      <th>title</th>\n      <th>url</th>\n      <th>removed_by_category</th>\n      <th>body</th>\n    </tr>\n    <tr>\n      <th>id</th>\n      <th></th>\n      <th></th>\n      <th></th>\n      <th></th>\n      <th></th>\n      <th></th>\n      <th></th>\n    </tr>\n  </thead>\n  <tbody>\n    <tr>\n      <th>lwdn75</th>\n      <td>1614722303</td>\n      <td>Is there a high probability that $RKT will dip...</td>\n      <td>wallstreetbets</td>\n      <td>QUESTION: What are the chances that $RKT will ...</td>\n      <td>https://www.reddit.com/r/wallstreetbets/commen...</td>\n      <td>NaN</td>\n      <td>NaN</td>\n    </tr>\n    <tr>\n      <th>lwdn6i</th>\n      <td>1614722302</td>\n      <td></td>\n      <td>wallstreetbets</td>\n      <td>Okay, which one of you lads did I have the ple...</td>\n      <td>https://i.redd.it/rnwn7apwsok61.jpg</td>\n      <td>moderator</td>\n      <td>NaN</td>\n    </tr>\n    <tr>\n      <th>lwdn1k</th>\n      <td>1614722290</td>\n      <td>[removed]</td>\n      <td>wallstreetbets</td>\n      <td>$rkt gamma squeeze on Friday March 5 if price ...</td>\n      <td>https://www.reddit.com/r/wallstreetbets/commen...</td>\n      <td>moderator</td>\n      <td>NaN</td>\n    </tr>\n    <tr>\n      <th>lwdn1f</th>\n      <td>1614722290</td>\n      <td></td>\n      <td>wallstreetbets</td>\n      <td>I love you all &amp;lt;3</td>\n      <td>https://v.redd.it/gcdxkzo1sok61</td>\n      <td>NaN</td>\n      <td>NaN</td>\n    </tr>\n    <tr>\n      <th>lwdn0t</th>\n      <td>1614722289</td>\n      <td></td>\n      <td>wallstreetbets</td>\n      <td>Dear RKT, reposted important clip from DD here.</td>\n      <td>https://i.redd.it/yu5dhsuusok61.jpg</td>\n      <td>moderator</td>\n      <td>NaN</td>\n    </tr>\n    <tr>\n      <th>lwdmzx</th>\n      <td>1614722286</td>\n      <td>[removed]</td>\n      <td>wallstreetbets</td>\n      <td>RKT earning move to GME</td>\n      <td>https://www.reddit.com/r/wallstreetbets/commen...</td>\n      <td>moderator</td>\n      <td>NaN</td>\n    </tr>\n    <tr>\n      <th>lwdmzu</th>\n      <td>1614722286</td>\n      <td>[removed]</td>\n      <td>wallstreetbets</td>\n      <td>Tomorrow RKT 🚀🚀</td>\n      <td>https://www.reddit.com/r/wallstreetbets/commen...</td>\n      <td>moderator</td>\n      <td>NaN</td>\n    </tr>\n    <tr>\n      <th>lwdmwz</th>\n      <td>1614722280</td>\n      <td></td>\n      <td>wallstreetbets</td>\n      <td>All in and fuck it</td>\n      <td>https://i.redd.it/bncq6uiusok61.jpg</td>\n      <td>NaN</td>\n      <td>NaN</td>\n    </tr>\n    <tr>\n      <th>lwdmo5</th>\n      <td>1614722262</td>\n      <td>[removed]</td>\n      <td>wallstreetbets</td>\n      <td>Dear strangers</td>\n      <td>https://www.reddit.com/r/wallstreetbets/commen...</td>\n      <td>moderator</td>\n      <td>NaN</td>\n    </tr>\n    <tr>\n      <th>lwdm39</th>\n      <td>1614722221</td>\n      <td>&amp;amp;#x200B;\\n\\n*Processing img maonr8sslok61....</td>\n      <td>wallstreetbets</td>\n      <td>RKT $580,000 GAIN TODAY 🚀🚀🚀 [̲̅$̲̅(̲̅ ͡° ͜ʖ ͡°...</td>\n      <td>https://www.reddit.com/r/wallstreetbets/commen...</td>\n      <td>NaN</td>\n      <td>NaN</td>\n    </tr>\n  </tbody>\n</table>\n</div>"
     },
     "metadata": {},
     "execution_count": 23
    }
   ],
   "source": [
    "# join the comments and the posts \n",
    "# set_index to join the id of the post with the link_id of the comment \n",
    "\n",
    "df_final = submissions_df.set_index('id').join(grouped_comments,)\n",
    "\n",
    "df_final"
   ]
  }
 ]
}